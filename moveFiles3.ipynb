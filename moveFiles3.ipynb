{
 "cells": [
  {
   "cell_type": "markdown",
   "metadata": {},
   "source": [
    "Testando pymediainfo\n",
    "https://pymediainfo.readthedocs.io/en/stable/\n",
    "\n",
    "Refs:\n",
    "https://exiftool.org/TagNames/QuickTime.html#Movie\n",
    "https://www.thepythoncode.com/article/extracting-image-metadata-in-python"
   ]
  },
  {
   "cell_type": "code",
   "execution_count": 13,
   "metadata": {},
   "outputs": [],
   "source": [
    "import os\n",
    "import shutil\n",
    "import datetime\n",
    "import json\n",
    "from pymediainfo import MediaInfo"
   ]
  },
  {
   "cell_type": "code",
   "execution_count": 14,
   "metadata": {},
   "outputs": [],
   "source": [
    "from PIL import Image, ExifTags\n",
    "from PIL.ExifTags import TAGS"
   ]
  },
  {
   "cell_type": "code",
   "execution_count": 15,
   "metadata": {},
   "outputs": [],
   "source": [
    "source_folder = './dir/'\n",
    "#im = Image.open('./dir/IMG_8722.JPG')"
   ]
  },
  {
   "cell_type": "markdown",
   "metadata": {},
   "source": [
    "Listando arquivos."
   ]
  },
  {
   "cell_type": "code",
   "execution_count": 16,
   "metadata": {},
   "outputs": [
    {
     "name": "stdout",
     "output_type": "stream",
     "text": [
      "['2021-09-30', '2021-12-12', '2021-06-25', '2022-04-20', 'IMG_1380.WEBP', 'moveVideos.py', '.DS_Store', '2022-01-11', 'IMG_2001.JPG', 'IMG_7255.JPG', '2021-04-21', '2021-03-31', 'render.GIF', '2021-10-20', '2021-08-22', '2021-01-28', 'render_4.GIF', '2021-09-05', '2021-11-08', 'render_2.GIF', 'render_3.GIF', 'render_1.GIF', 'IMG_1380_1.WEBP', '2021-07-04', '2022-03-26', '2021-02-05']\n"
     ]
    }
   ],
   "source": [
    "list_folder = os.listdir(source_folder)\n",
    "print(list_folder)"
   ]
  },
  {
   "cell_type": "code",
   "execution_count": 17,
   "metadata": {},
   "outputs": [
    {
     "name": "stdout",
     "output_type": "stream",
     "text": [
      "FOTO: \n",
      "Sem info de data para arquivo:  IMG_2001.JPG\n",
      "FOTO: \n",
      "Sem info de data para arquivo:  IMG_7255.JPG\n"
     ]
    }
   ],
   "source": [
    "arquivos = []\n",
    "for path in list_folder:\n",
    "    # check if current path is a file\n",
    "    if os.path.isfile(os.path.join(source_folder, path)):\n",
    "        \n",
    "        #arquivos.append(path)\n",
    "        full_path = os.path.join(source_folder, path)\n",
    "        #print(full_path)\n",
    "\n",
    "        media_info = MediaInfo.parse(full_path, output=\"JSON\")\n",
    "        file = json.loads(media_info)[\"media\"][\"track\"][0]\n",
    "\n",
    "        fileExtensionFilterVideo = ['MOV', 'MP4']\n",
    "        fileExtensionFilterPhoto = ['JPG', 'JPEG']\n",
    "        \n",
    "\n",
    "        if (file['FileExtension'] in (fileExtensionFilterVideo + fileExtensionFilterPhoto)):\n",
    "\n",
    "            if (file['FileExtension'] in fileExtensionFilterPhoto):\n",
    "                im = Image.open(file['CompleteName'])\n",
    "                exif = dict((ExifTags.TAGS[k], v) for k, v in im._getexif().items() if k in ExifTags.TAGS)\n",
    "                print('FOTO: ')\n",
    "                try:\n",
    "                    anoMesDia = exif['DateTime'].split(' ')[0].replace(':', '-')\n",
    "                    dataStatus = True\n",
    "                except:\n",
    "                    dataStatus = False\n",
    "                #print(exif)\n",
    "                #print('========\\n\\n')\n",
    "\n",
    "            elif (file['FileExtension'] in fileExtensionFilterVideo): \n",
    "                #print('CompleteName: ', file['CompleteName'] )\n",
    "                encoded_date = file['Encoded_Date']\n",
    "                #print(encoded_date)\n",
    "                try: \n",
    "                    anoMesDia = encoded_date.split(' ')[1]\n",
    "                    dataStatus = True\n",
    "                except:\n",
    "                    dataStatus = False\n",
    "                #print(anoMesDia)\n",
    "\n",
    "            if dataStatus == True:\n",
    "                createFolder = os.path.join(source_folder, anoMesDia)\n",
    "                src_path = file['CompleteName']\n",
    "                dst_path = createFolder+'/'+file['FileNameExtension']\n",
    "\n",
    "                try: \n",
    "                    os.mkdir(createFolder)\n",
    "                    \n",
    "                except FileExistsError:\n",
    "                    print('Pasta \"', createFolder, '\" já existente.')\n",
    "                print(shutil.move(src_path, dst_path))\n",
    "            else:\n",
    "                print('Sem info de data para arquivo: ', file['FileNameExtension'])\n",
    "        "
   ]
  }
 ],
 "metadata": {
  "kernelspec": {
   "display_name": "Python 3.10.6 ('venv': venv)",
   "language": "python",
   "name": "python3"
  },
  "language_info": {
   "codemirror_mode": {
    "name": "ipython",
    "version": 3
   },
   "file_extension": ".py",
   "mimetype": "text/x-python",
   "name": "python",
   "nbconvert_exporter": "python",
   "pygments_lexer": "ipython3",
   "version": "3.10.6"
  },
  "orig_nbformat": 4,
  "vscode": {
   "interpreter": {
    "hash": "65e15074db0ce0c06277cbfe6b2480b7b8f615c27d90593ada4ec7342456f97a"
   }
  }
 },
 "nbformat": 4,
 "nbformat_minor": 2
}
